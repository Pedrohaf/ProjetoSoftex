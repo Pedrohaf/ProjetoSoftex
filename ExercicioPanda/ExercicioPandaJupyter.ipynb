{
 "cells": [
  {
   "cell_type": "code",
   "execution_count": 33,
   "metadata": {},
   "outputs": [
    {
     "data": {
      "text/html": [
       "<div>\n",
       "<style scoped>\n",
       "    .dataframe tbody tr th:only-of-type {\n",
       "        vertical-align: middle;\n",
       "    }\n",
       "\n",
       "    .dataframe tbody tr th {\n",
       "        vertical-align: top;\n",
       "    }\n",
       "\n",
       "    .dataframe thead th {\n",
       "        text-align: right;\n",
       "    }\n",
       "</style>\n",
       "<table border=\"1\" class=\"dataframe\">\n",
       "  <thead>\n",
       "    <tr style=\"text-align: right;\">\n",
       "      <th></th>\n",
       "      <th>Aluno</th>\n",
       "      <th>nota_1</th>\n",
       "      <th>nota_2</th>\n",
       "      <th>faltas</th>\n",
       "      <th>Media</th>\n",
       "      <th>testeSitacao</th>\n",
       "    </tr>\n",
       "  </thead>\n",
       "  <tbody>\n",
       "    <tr>\n",
       "      <th>0</th>\n",
       "      <td>aluno_1</td>\n",
       "      <td>7</td>\n",
       "      <td>7</td>\n",
       "      <td>1</td>\n",
       "      <td>7.0</td>\n",
       "      <td>Aprovado</td>\n",
       "    </tr>\n",
       "    <tr>\n",
       "      <th>1</th>\n",
       "      <td>aluno_2</td>\n",
       "      <td>3</td>\n",
       "      <td>10</td>\n",
       "      <td>7</td>\n",
       "      <td>6.5</td>\n",
       "      <td>Reprovado</td>\n",
       "    </tr>\n",
       "    <tr>\n",
       "      <th>2</th>\n",
       "      <td>aluno_3</td>\n",
       "      <td>9</td>\n",
       "      <td>4</td>\n",
       "      <td>2</td>\n",
       "      <td>6.5</td>\n",
       "      <td>Reprovado</td>\n",
       "    </tr>\n",
       "    <tr>\n",
       "      <th>3</th>\n",
       "      <td>aluno_4</td>\n",
       "      <td>10</td>\n",
       "      <td>6</td>\n",
       "      <td>9</td>\n",
       "      <td>8.0</td>\n",
       "      <td>Reprovado</td>\n",
       "    </tr>\n",
       "  </tbody>\n",
       "</table>\n",
       "</div>"
      ],
      "text/plain": [
       "     Aluno  nota_1  nota_2  faltas  Media testeSitacao\n",
       "0  aluno_1       7       7       1    7.0     Aprovado\n",
       "1  aluno_2       3      10       7    6.5    Reprovado\n",
       "2  aluno_3       9       4       2    6.5    Reprovado\n",
       "3  aluno_4      10       6       9    8.0    Reprovado"
      ]
     },
     "execution_count": 33,
     "metadata": {},
     "output_type": "execute_result"
    }
   ],
   "source": [
    "import pandas as pd\n",
    "df = pd.read_csv('notas_alunos.csv', encoding=\"UTF-8\", sep=\";\" )\n",
    "\n",
    "\n",
    "df[\"Media\"] = (df['nota_1'] + df['nota_2']) / 2 \n",
    "\n",
    "testeSitacao = ''\n",
    "df.loc[(df['Media'] >= 7) & (df[\"faltas\"] < 5), \"testeSitacao\"] = \"Aprovado\"\n",
    "df.loc[(df['Media'] < 7)  | (df[\"faltas\"] > 5), \"testeSitacao\"] = \"Reprovado\"\n",
    "\n",
    "df.to_csv('alunos_situação.csv')\n",
    "\n",
    "\n",
    "maiorMedia = df['Media'].max()\n",
    "maiorFalta = df['faltas'].max()\n",
    "MediaTurma = df['Media'].median()\n",
    "print('A maior nota foi: ' + str(maiorMedia))\n",
    "print('O maior numero de faltas foi: ' + str(maiorFalta))\n",
    "print('A media geral da turma foi: ' + str(MediaTurma))\n",
    "\n",
    "\n",
    "\n",
    "\n",
    "df.head()"
   ]
  }
 ],
 "metadata": {
  "kernelspec": {
   "display_name": "Python 3.10.5 64-bit",
   "language": "python",
   "name": "python3"
  },
  "language_info": {
   "codemirror_mode": {
    "name": "ipython",
    "version": 3
   },
   "file_extension": ".py",
   "mimetype": "text/x-python",
   "name": "python",
   "nbconvert_exporter": "python",
   "pygments_lexer": "ipython3",
   "version": "3.10.5"
  },
  "orig_nbformat": 4,
  "vscode": {
   "interpreter": {
    "hash": "24b8ed75698cda4e7cdbde1606b4aabfe9ecf156dc544a84aff39104797ae805"
   }
  }
 },
 "nbformat": 4,
 "nbformat_minor": 2
}
